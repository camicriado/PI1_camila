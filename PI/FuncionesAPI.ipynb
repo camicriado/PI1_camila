{
 "cells": [
  {
   "attachments": {},
   "cell_type": "markdown",
   "metadata": {},
   "source": [
    "**FUNCIONES API**\n",
    "\n",
    "*En esta Notebook se realizan las funciones solicitadas que luego se disponibilizaran en la API*\n",
    "*Se usa el dataset df_etl, que es el resultante de la limpieza de datos y de las transformaciones previas solicitadas. Tambien se han agregado al dataset algunas columnas que resultaran utiles para resolver las funciones*"
   ]
  },
  {
   "cell_type": "code",
   "execution_count": 66,
   "metadata": {},
   "outputs": [],
   "source": [
    "import pandas as pd\n",
    "import os\n",
    "import ast\n"
   ]
  },
  {
   "cell_type": "code",
   "execution_count": 4,
   "metadata": {},
   "outputs": [],
   "source": [
    "ruta_archivo = os.path.join('Dataset', 'df_etl.csv')    #Lo descargamos con ruta relativa a la carpeta actual\n",
    "df = pd.read_csv(ruta_archivo)"
   ]
  },
  {
   "attachments": {},
   "cell_type": "markdown",
   "metadata": {},
   "source": [
    "**1**\n",
    "*Consigna*\n",
    "\n",
    "def cantidad_filmaciones_mes( Mes ): Se ingresa un mes en idioma Español. Debe devolver la cantidad de películas que fueron estrenadas en el mes consultado en la totalidad del dataset.\n",
    "                    Ejemplo de retorno: X cantidad de películas fueron estrenadas en el mes de X"
   ]
  },
  {
   "cell_type": "code",
   "execution_count": 23,
   "metadata": {},
   "outputs": [],
   "source": [
    "def cantidad_filmaciones_mes(mes):\n",
    "    global df  # Declarar el DataFrame como una variable global\n",
    "    \n",
    "    meses = ['enero', 'febrero', 'marzo', 'abril', 'mayo', 'junio', 'julio', 'agosto', 'septiembre', 'octubre', 'noviembre', 'diciembre']\n",
    "\n",
    "    if mes.lower() in meses:\n",
    "        mask = df.release_month == mes.lower().capitalize()\n",
    "        cantidad_peliculas = df.release_month[mask].count()\n",
    "\n",
    "     # Crear el diccionario de resultados\n",
    "        resultado = {\n",
    "        'Mes de estreno': mes.capitalize(),\n",
    "        'Cantidad de películas estrenadas': cantidad_peliculas\n",
    "        }\n",
    "\n",
    "        return resultado\n",
    "    else:\n",
    "        resultado = {\n",
    "        'ERROR': 'MES INCORRECTO',\n",
    "        \n",
    "        }\n",
    "        return resultado\n"
   ]
  },
  {
   "cell_type": "code",
   "execution_count": 40,
   "metadata": {},
   "outputs": [
    {
     "data": {
      "text/plain": [
       "{'Mes de estreno': 'Octubre', 'Cantidad de películas estrenadas': 4389}"
      ]
     },
     "execution_count": 40,
     "metadata": {},
     "output_type": "execute_result"
    }
   ],
   "source": [
    "# ejemplo de prueba\n",
    "cantidad_filmaciones_mes('Octubre')\n"
   ]
  },
  {
   "attachments": {},
   "cell_type": "markdown",
   "metadata": {},
   "source": [
    "**2**\n",
    "\n",
    "*def cantidad_filmaciones_dia( Dia ): Se ingresa un día en idioma Español. Debe devolver la cantidad de películas que fueron estrenadas en día consultado en la totalidad del dataset*"
   ]
  },
  {
   "cell_type": "code",
   "execution_count": 35,
   "metadata": {},
   "outputs": [],
   "source": [
    "def cantidad_filmaciones_dia(dia:str):\n",
    "   \n",
    "     '''Se ingresa el dia y la funcion retorna la cantidad de peliculas que se estrenaron ese dia historicamente'''\n",
    "     global df  # Declarar el DataFrame como una variable global\n",
    "     respuesta = 0\n",
    "     dia = dia.lower().capitalize()\n",
    "     if dia in df.release_day.unique():\n",
    "        mask_cantidad_filmaciones_dia = df['release_day'] == dia\n",
    "        respuesta = df[mask_cantidad_filmaciones_dia].shape[0]\n",
    "        return {'Peliculas estrenadas un':dia, 'Cantidad':respuesta}\n",
    "     else:\n",
    "        return {'ERROR EN PALABRA INGRESADA ':dia, 'Dia Ingresado':'No es correcto'}"
   ]
  },
  {
   "cell_type": "code",
   "execution_count": 41,
   "metadata": {},
   "outputs": [
    {
     "data": {
      "text/plain": [
       "{'Peliculas estrenadas un': 'Martes', 'Cantidad': 4427}"
      ]
     },
     "execution_count": 41,
     "metadata": {},
     "output_type": "execute_result"
    }
   ],
   "source": [
    "# Ejemplo funcion 2\n",
    "cantidad_filmaciones_dia('MaRTES')"
   ]
  },
  {
   "attachments": {},
   "cell_type": "markdown",
   "metadata": {},
   "source": [
    "**3**\n",
    "\n",
    "def score_titulo( titulo_de_la_filmación ): Se ingresa el título de una filmación esperando como respuesta el título, el año de estreno y el score."
   ]
  },
  {
   "cell_type": "code",
   "execution_count": 47,
   "metadata": {},
   "outputs": [],
   "source": [
    "def score_titulo(titulo:str):\n",
    "    '''Se ingresa el título de una filmación esperando como respuesta el título, el año de estreno y el score'''\n",
    "    global df  # Declarar el DataFrame como una variable global\n",
    "    respuesta2 = 0\n",
    "    respuesta3 = 0\n",
    "    mask_titulo = 0\n",
    "    \n",
    "    if df['title'].str.lower().str.contains(titulo.lower()).any():\n",
    "        mask_titulo = df['title'].str.lower() == titulo.lower()\n",
    "        respuesta2 = df.loc[mask_titulo, 'release_year'].values[0]\n",
    "        respuesta3 = df.loc[mask_titulo, 'popularity'].values[0]\n",
    "        return {'Pelicula':titulo.title(), 'Se estrenó el año':respuesta2, 'La misma tiene Score':respuesta3}\n",
    "    else:\n",
    "        return {'Pelicula':titulo.title(), 'ERROR':'NO SE ENCONTRO'}"
   ]
  },
  {
   "cell_type": "code",
   "execution_count": 49,
   "metadata": {},
   "outputs": [
    {
     "data": {
      "text/plain": [
       "{'Pelicula': 'Toy Story',\n",
       " 'Se estrenó el año': 1995,\n",
       " 'La misma tiene Score': 21.946943}"
      ]
     },
     "execution_count": 49,
     "metadata": {},
     "output_type": "execute_result"
    }
   ],
   "source": [
    "# Ejemplo\n",
    "score_titulo('Toy Story')"
   ]
  },
  {
   "attachments": {},
   "cell_type": "markdown",
   "metadata": {},
   "source": [
    "**4**\n",
    "def votos_titulo( titulo_de_la_filmación ): Se ingresa el título de una filmación esperando como respuesta el título, la cantidad de votos y el valor promedio de las votaciones. La misma variable deberá de contar con al menos 2000 valoraciones, caso contrario, debemos contar con un mensaje avisando que no cumple esta condición y que por ende, no se devuelve ningun valor."
   ]
  },
  {
   "cell_type": "code",
   "execution_count": 52,
   "metadata": {},
   "outputs": [],
   "source": [
    "def votos_titulo(titulo:str):\n",
    "    '''Se ingresa el título de una filmación esperando como respuesta el título, la cantidad de votos y el valor promedio de las votaciones. \n",
    "    La misma variable deberá de contar con al menos 2000 valoraciones, \n",
    "    caso contrario, debemos contar con un mensaje avisando que no cumple esta condición y que por ende, no se devuelve ningun valor.'''\n",
    "    global df  # Declarar el DataFrame como una variable global\n",
    "    \n",
    "    mask_titulo = df['title'].str.lower() == titulo.lower()\n",
    "    \n",
    "    if df.loc[mask_titulo, 'vote_count'].values[0] < 2000:\n",
    "        return {'ERROR':'No se cumplen los requisitos'}\n",
    "    else:\n",
    "        return {'titulo':titulo, 'anio':df.loc[mask_titulo, 'release_year'].values[0], 'voto_total':df.loc[mask_titulo, 'vote_count'].values[0], 'voto_promedio':df.loc[mask_titulo, 'vote_average'].values[0]}"
   ]
  },
  {
   "cell_type": "code",
   "execution_count": 53,
   "metadata": {},
   "outputs": [
    {
     "data": {
      "text/plain": [
       "{'titulo': 'Toy Story',\n",
       " 'anio': 1995,\n",
       " 'voto_total': 5415.0,\n",
       " 'voto_promedio': 7.7}"
      ]
     },
     "execution_count": 53,
     "metadata": {},
     "output_type": "execute_result"
    }
   ],
   "source": [
    "# Ejemplo\n",
    "votos_titulo('Toy Story')"
   ]
  },
  {
   "cell_type": "code",
   "execution_count": 75,
   "metadata": {},
   "outputs": [
    {
     "data": {
      "text/plain": [
       "Index(['budget', 'genres', 'id', 'original_language', 'overview', 'popularity',\n",
       "       'production_companies', 'production_countries', 'release_date',\n",
       "       'revenue', 'runtime', 'spoken_languages', 'status', 'title',\n",
       "       'vote_average', 'vote_count', 'collection_name', 'genre_name',\n",
       "       'genre_id', 'release_year', 'release_month', 'release_day', 'return',\n",
       "       'Actors', 'Director'],\n",
       "      dtype='object')"
      ]
     },
     "execution_count": 75,
     "metadata": {},
     "output_type": "execute_result"
    }
   ],
   "source": [
    "df.columns"
   ]
  },
  {
   "attachments": {},
   "cell_type": "markdown",
   "metadata": {},
   "source": [
    "**5**\n",
    "def get_actor( nombre_actor ): Se ingresa el nombre de un actor que se encuentre dentro de un dataset debiendo devolver el éxito del mismo medido a través del retorno. Además, la cantidad de películas que en las que ha participado y el promedio de retorno. La definición no deberá considerar directores."
   ]
  },
  {
   "cell_type": "code",
   "execution_count": 93,
   "metadata": {},
   "outputs": [],
   "source": [
    "\n",
    "def get_actor(actor_name):\n",
    "    global df  # Declarar el DataFrame como una variable global\n",
    "    count = 0  # Variable para almacenar el contador de películas\n",
    "    revenue_acumulado = 0  # Variable para almacenar la suma de revenue\n",
    "    \n",
    "    for actors, revenue in zip(df['Actors'], df['revenue']):\n",
    "        if isinstance(actors, str):\n",
    "            try:\n",
    "                actors_list = ast.literal_eval(actors)\n",
    "                if any(actor_name.lower() in actor.lower() for actor in actors_list):\n",
    "                    count += 1\n",
    "                    if pd.notnull(revenue):\n",
    "                        revenue_acumulado += revenue\n",
    "            except ValueError:\n",
    "                pass\n",
    "    \n",
    "    revenue_promedio = revenue_acumulado / count if count > 0 else 0\n",
    "    \n",
    "    actor_data = {\n",
    "        'Actor': actor_name,\n",
    "        'Películas': count,\n",
    "        'Revenue Total': revenue_acumulado,\n",
    "        'Revenue Promedio': revenue_promedio\n",
    "    }\n",
    "    \n",
    "    return actor_data\n",
    "\n"
   ]
  },
  {
   "cell_type": "code",
   "execution_count": 98,
   "metadata": {},
   "outputs": [
    {
     "data": {
      "text/plain": [
       "{'Actor': 'Harrison Ford',\n",
       " 'Películas': 57,\n",
       " 'Revenue Total': 9330675809,\n",
       " 'Revenue Promedio': 163696066.82456142}"
      ]
     },
     "execution_count": 98,
     "metadata": {},
     "output_type": "execute_result"
    }
   ],
   "source": [
    "#ejemplo\n",
    "get_actor('Harrison Ford')"
   ]
  },
  {
   "attachments": {},
   "cell_type": "markdown",
   "metadata": {},
   "source": [
    "**5**\n",
    "def get_director( nombre_director ): Se ingresa el nombre de un director que se encuentre dentro de un dataset debiendo devolver el éxito del mismo medido a través del retorno. Además, deberá devolver el nombre de cada película con la fecha de lanzamiento, retorno individual, costo y ganancia de la misma."
   ]
  },
  {
   "cell_type": "code",
   "execution_count": 61,
   "metadata": {},
   "outputs": [],
   "source": [
    "def get_director(director_name):\n",
    "    global df\n",
    "    \n",
    "    # Filtrar el dataframe por el director especificado\n",
    "    director_movies = df[df['Director'] == director_name]\n",
    "    \n",
    "    if director_movies.empty:\n",
    "        print(f\"No se encontraron películas para el director {director_name}.\")\n",
    "        return None\n",
    "    \n",
    "    # Calcular el revenue acumulado\n",
    "    total_revenue = director_movies['revenue'].sum()\n",
    "    \n",
    "    # Crear una lista para almacenar la información de las películas del director\n",
    "    movies_info = []\n",
    "    \n",
    "    # Iterar sobre cada película del director\n",
    "    for index, row in director_movies.iterrows():\n",
    "        movie_title = row['title']\n",
    "        release_date = row['release_date']\n",
    "        revenue = row['revenue']\n",
    "        budget = row['budget']\n",
    "        profit = revenue - budget\n",
    "        \n",
    "        # Verificar si la fecha de lanzamiento es una cadena de texto\n",
    "        if isinstance(release_date, str):\n",
    "            release_date_str = release_date\n",
    "        else:\n",
    "            release_date_str = release_date.strftime('%Y-%m-%d') if not pd.isnull(release_date) else 'No especificado'\n",
    "        \n",
    "        movie_info = {\n",
    "            'Película': movie_title,\n",
    "            'Fecha de lanzamiento': release_date_str,\n",
    "            'Revenue': revenue if revenue != 0 else 'No especificado',\n",
    "            'Presupuesto': budget if budget != 0 else 'No especificado',\n",
    "            'Ganancia': profit if revenue != 0 and budget != 0 else 'No especificado'\n",
    "        }\n",
    "        \n",
    "        movies_info.append(movie_info)\n",
    "    \n",
    "    # Crear el diccionario de resultado\n",
    "    director_data = {\n",
    "        'Director': director_name,\n",
    "        'Películas': movies_info,\n",
    "        'Revenue acumulado': total_revenue if total_revenue != 0 else 'No especificado'\n",
    "    }\n",
    "    \n",
    "    return director_data\n",
    "\n"
   ]
  },
  {
   "cell_type": "code",
   "execution_count": 62,
   "metadata": {},
   "outputs": [
    {
     "data": {
      "text/plain": [
       "{'Director': 'Sydney Pollack',\n",
       " 'Películas': [{'Película': 'Sabrina',\n",
       "   'Fecha de lanzamiento': '1995-12-15',\n",
       "   'Revenue': 'No especificado',\n",
       "   'Presupuesto': 58000000.0,\n",
       "   'Ganancia': 'No especificado'},\n",
       "  {'Película': 'The Firm',\n",
       "   'Fecha de lanzamiento': '1993-06-30',\n",
       "   'Revenue': 270248367,\n",
       "   'Presupuesto': 42000000.0,\n",
       "   'Ganancia': 228248367.0},\n",
       "  {'Película': 'Three Days of the Condor',\n",
       "   'Fecha de lanzamiento': '1975-09-24',\n",
       "   'Revenue': 27476252,\n",
       "   'Presupuesto': 'No especificado',\n",
       "   'Ganancia': 'No especificado'},\n",
       "  {'Película': \"They Shoot Horses, Don't They?\",\n",
       "   'Fecha de lanzamiento': '1969-12-10',\n",
       "   'Revenue': 'No especificado',\n",
       "   'Presupuesto': 'No especificado',\n",
       "   'Ganancia': 'No especificado'},\n",
       "  {'Película': 'Dead Again',\n",
       "   'Fecha de lanzamiento': '1991-08-23',\n",
       "   'Revenue': 38016380,\n",
       "   'Presupuesto': 'No especificado',\n",
       "   'Ganancia': 'No especificado'},\n",
       "  {'Película': 'The Way We Were',\n",
       "   'Fecha de lanzamiento': '1973-10-17',\n",
       "   'Revenue': 45000000,\n",
       "   'Presupuesto': 'No especificado',\n",
       "   'Ganancia': 'No especificado'},\n",
       "  {'Película': 'Tootsie',\n",
       "   'Fecha de lanzamiento': '1982-12-16',\n",
       "   'Revenue': 177200000,\n",
       "   'Presupuesto': 21000000.0,\n",
       "   'Ganancia': 156200000.0},\n",
       "  {'Película': 'Bright Lights, Big City',\n",
       "   'Fecha de lanzamiento': '1988-04-01',\n",
       "   'Revenue': 'No especificado',\n",
       "   'Presupuesto': 'No especificado',\n",
       "   'Ganancia': 'No especificado'},\n",
       "  {'Película': 'Absence of Malice',\n",
       "   'Fecha de lanzamiento': '1981-12-18',\n",
       "   'Revenue': 40716963,\n",
       "   'Presupuesto': 12000000.0,\n",
       "   'Ganancia': 28716963.0},\n",
       "  {'Película': 'Sketches of Frank Gehry',\n",
       "   'Fecha de lanzamiento': '2006-05-12',\n",
       "   'Revenue': 'No especificado',\n",
       "   'Presupuesto': 'No especificado',\n",
       "   'Ganancia': 'No especificado'},\n",
       "  {'Película': 'Catch a Fire',\n",
       "   'Fecha de lanzamiento': '2006-10-27',\n",
       "   'Revenue': 4291965,\n",
       "   'Presupuesto': 'No especificado',\n",
       "   'Ganancia': 'No especificado'},\n",
       "  {'Película': 'The Slender Thread',\n",
       "   'Fecha de lanzamiento': '1965-12-23',\n",
       "   'Revenue': 'No especificado',\n",
       "   'Presupuesto': 'No especificado',\n",
       "   'Ganancia': 'No especificado'},\n",
       "  {'Película': 'Margaret',\n",
       "   'Fecha de lanzamiento': '2011-09-30',\n",
       "   'Revenue': 46495,\n",
       "   'Presupuesto': 14000000.0,\n",
       "   'Ganancia': -13953505.0}],\n",
       " 'Revenue acumulado': 602996422}"
      ]
     },
     "execution_count": 62,
     "metadata": {},
     "output_type": "execute_result"
    }
   ],
   "source": [
    "#ejemplo\n",
    "get_director('Sydney Pollack')"
   ]
  }
 ],
 "metadata": {
  "kernelspec": {
   "display_name": "Python 3",
   "language": "python",
   "name": "python3"
  },
  "language_info": {
   "codemirror_mode": {
    "name": "ipython",
    "version": 3
   },
   "file_extension": ".py",
   "mimetype": "text/x-python",
   "name": "python",
   "nbconvert_exporter": "python",
   "pygments_lexer": "ipython3",
   "version": "3.9.6"
  },
  "orig_nbformat": 4
 },
 "nbformat": 4,
 "nbformat_minor": 2
}
